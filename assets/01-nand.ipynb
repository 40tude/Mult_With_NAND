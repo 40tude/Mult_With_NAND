{
 "cells": [
  {
   "cell_type": "code",
   "execution_count": 30,
   "metadata": {},
   "outputs": [],
   "source": [
    "# prelude\n",
    "\n",
    "from random import seed\n",
    "from random import randint\n",
    "\n",
    "seed(42)"
   ]
  },
  {
   "cell_type": "code",
   "execution_count": 31,
   "metadata": {},
   "outputs": [
    {
     "name": "stdout",
     "output_type": "stream",
     "text": [
      "True\n",
      "True\n",
      "True\n",
      "False\n"
     ]
    }
   ],
   "source": [
    "def NAND(b0 : bool, b1 : bool) -> bool:\n",
    "  \"\"\"return b0 NAND b1\n",
    "\n",
    "  Args:\n",
    "      b0 (bool): first bit \n",
    "      b1 (bool): second bit\n",
    "\n",
    "  Returns:\n",
    "      bool: b0 nand b1\n",
    "      False if both inputs are True. True otherwise\n",
    "  \"\"\"\n",
    "  return not (b1 and b0)\n",
    "\n",
    "# testing\n",
    "print(NAND (0,0))\n",
    "print(NAND (0,1))\n",
    "print(NAND (1,0))\n",
    "print(NAND (1,1))"
   ]
  },
  {
   "cell_type": "code",
   "execution_count": 32,
   "metadata": {},
   "outputs": [
    {
     "name": "stdout",
     "output_type": "stream",
     "text": [
      "True\n",
      "False\n"
     ]
    }
   ],
   "source": [
    "def NOT (b :bool) -> bool:\n",
    " return NAND(b,b)\n",
    "\n",
    "# testing\n",
    "print(NOT(0))\n",
    "print(NOT(1))"
   ]
  },
  {
   "cell_type": "code",
   "execution_count": 33,
   "metadata": {},
   "outputs": [
    {
     "name": "stdout",
     "output_type": "stream",
     "text": [
      "False\n",
      "False\n",
      "False\n",
      "True\n"
     ]
    }
   ],
   "source": [
    "def AND (b1:bool, b0:bool)->bool:\n",
    "  b2 = NAND(b1, b0)\n",
    "  return NAND(b2, b2)\n",
    "\n",
    "# testing\n",
    "print(AND (0,0))\n",
    "print(AND (0,1))\n",
    "print(AND (1,0))\n",
    "print(AND (1,1))"
   ]
  },
  {
   "cell_type": "code",
   "execution_count": 34,
   "metadata": {},
   "outputs": [
    {
     "name": "stdout",
     "output_type": "stream",
     "text": [
      "False\n",
      "True\n",
      "True\n",
      "False\n"
     ]
    }
   ],
   "source": [
    "def XOR (b1:bool, b0:bool)->bool:\n",
    "  b2 = NAND(b0, b1)\n",
    "\n",
    "  b3 = NAND(b0, b2)\n",
    "  b4 = NAND(b1, b2)\n",
    "  \n",
    "  return NAND(b3, b4)\n",
    "\n",
    "# testing\n",
    "print(XOR (0,0))\n",
    "print(XOR (0,1))\n",
    "print(XOR (1,0))\n",
    "print(XOR (1,1))"
   ]
  },
  {
   "cell_type": "code",
   "execution_count": 35,
   "metadata": {},
   "outputs": [
    {
     "name": "stdout",
     "output_type": "stream",
     "text": [
      "(False, False)\n",
      "(False, True)\n",
      "(False, True)\n",
      "(True, False)\n",
      "(False, True)\n",
      "(True, False)\n",
      "(True, False)\n",
      "(True, True)\n"
     ]
    }
   ],
   "source": [
    "def ADD_32(b2:bool, b1:bool, b0:bool)-> tuple [bool, bool]:\n",
    "  i1 = NAND(b2, b1)\n",
    "  i2 = XOR(b1, b2)\n",
    "  i3 = NAND(i2, b0)\n",
    "  i4 = XOR(b0, i2)\n",
    "  i5 = NAND(i1, i3)\n",
    "  \n",
    "  return i5, i4\n",
    "\n",
    "# testing\n",
    "print(ADD_32 (0, 0, 0))\n",
    "print(ADD_32 (0, 0, 1))\n",
    "print(ADD_32 (0, 1, 0))\n",
    "print(ADD_32 (0, 1, 1))\n",
    "print(ADD_32 (1, 0, 0))\n",
    "print(ADD_32 (1, 0, 1))\n",
    "print(ADD_32 (1, 1, 0))\n",
    "print(ADD_32 (1, 1, 1))\n"
   ]
  },
  {
   "cell_type": "code",
   "execution_count": 44,
   "metadata": {},
   "outputs": [],
   "source": [
    "def ADD_4bits (op1b3, op1b2, op1b1, op1b0, op2b3, op2b2, op2b1, op2b0)-> tuple [bool, bool, bool, bool, bool]:\n",
    "  \n",
    "  i1, i0 = ADD_32 (op1b0, op2b0, 0)\n",
    "  i3, i2 = ADD_32 (op1b1, op2b1, i1)\n",
    "  i5, i4 = ADD_32 (op1b2, op2b2, i3)\n",
    "  i7, i6 = ADD_32 (op1b3, op2b3, i5)\n",
    "  \n",
    "  return i7, i6, i4, i2, i0"
   ]
  },
  {
   "cell_type": "code",
   "execution_count": 37,
   "metadata": {},
   "outputs": [],
   "source": [
    "def DecTo4bits(i:int)->tuple [bool, bool, bool, bool]:\n",
    "  \"\"\"Convert an int <= 15 to 4 distinct bits\n",
    "\n",
    "  Args:\n",
    "      i (int): the int to be converted\n",
    "\n",
    "  Returns:\n",
    "      tuple [bool, bool, bool, bool]: the corresponding bits. MSB on the left, LSB on the right.\n",
    "  \"\"\"\n",
    "  b0 = i%2\n",
    "  i = i//2\n",
    "\n",
    "  b1 = i%2\n",
    "  i = i//2\n",
    "\n",
    "  b2 = i%2\n",
    "  i = i//2\n",
    "\n",
    "  b3 = i%2\n",
    "  # i = i//2\n",
    "  \n",
    "  return b3, b2, b1, b0\n"
   ]
  },
  {
   "cell_type": "code",
   "execution_count": 45,
   "metadata": {},
   "outputs": [
    {
     "name": "stdout",
     "output_type": "stream",
     "text": [
      "i = 11   j = 11   i+j = 22\n",
      "i =  8   j =  1   i+j =  9\n",
      "i = 14   j =  3   i+j = 17\n",
      "i = 12   j =  2   i+j = 14\n",
      "i =  9   j = 11   i+j = 20\n"
     ]
    }
   ],
   "source": [
    "# test for ADD_4bits()\n",
    "for i in range(5):\n",
    "  op1 = randint(0, 15)\n",
    "  op2 = randint(0, 15)\n",
    "\n",
    "  i3, i2, i1, i0 = DecTo4bits(op1)\n",
    "  j3, j2, j1, j0 = DecTo4bits(op2)\n",
    "  o4, o3, o2, o1, o0 = ADD_4bits(i3, i2, i1, i0, j3, j2, j1, j0)\n",
    "  result = o4*2**4 + o3*2**3 + o2*2**2 + o1*2**1 + o0*2**0\n",
    "  print(f\"i = {op1:2}   j = {op2:2}   i+j = {result:2}\")\n",
    "\n",
    "\n"
   ]
  },
  {
   "cell_type": "code",
   "execution_count": 39,
   "metadata": {},
   "outputs": [],
   "source": [
    "def MUL_4bits (op1b3, op1b2, op1b1, op1b0, op2b3, op2b2, op2b1, op2b0):\n",
    "  \n",
    "  i0 = AND(op1b0, op2b0)\n",
    "  i1 = AND(op1b1, op2b0)\n",
    "  i2 = AND(op1b2, op2b0)\n",
    "  i3 = AND(op1b3, op2b0)\n",
    "\n",
    "  i4 = AND(op1b0, op2b1)\n",
    "  i5 = AND(op1b1, op2b1)\n",
    "  i6 = AND(op1b2, op2b1)\n",
    "  i7 = AND(op1b3, op2b1)\n",
    "\n",
    "  i9 ,  i8 = ADD_32 (i4, i1, 0)\n",
    "  i11, i10 = ADD_32 (i5, i2, i9)\n",
    "  i13, i12 = ADD_32 (i6, i3, i11)\n",
    "  i15, i14 = ADD_32 (i7, 0, i13)\n",
    "\n",
    "  i16 = AND(op1b0, op2b2)\n",
    "  i17 = AND(op1b1, op2b2)\n",
    "  i18 = AND(op1b2, op2b2)\n",
    "  i19 = AND(op1b3, op2b2)\n",
    "\n",
    "  i21, i20 = ADD_32 (i16, i10,   0)\n",
    "  i23, i22 = ADD_32 (i17, i12, i21)\n",
    "  i25, i24 = ADD_32 (i18, i14, i23)\n",
    "  i27, i26 = ADD_32 (i19, i15, i25)\n",
    "\n",
    "  i28 = AND(op1b0, op2b3)\n",
    "  i29 = AND(op1b1, op2b3)\n",
    "  i30 = AND(op1b2, op2b3)\n",
    "  i31 = AND(op1b3, op2b3)\n",
    "\n",
    "  i33, i32 = ADD_32 (i28, i22,   0)\n",
    "  i35, i34 = ADD_32 (i29, i24, i33)\n",
    "  i37, i36 = ADD_32 (i30, i26, i35)\n",
    "  i39, i38 = ADD_32 (i31, i27, i37)\n",
    "\n",
    "  return i39, i38, i36, i34, i32, i20, i8, i0\n"
   ]
  },
  {
   "cell_type": "code",
   "execution_count": 42,
   "metadata": {},
   "outputs": [
    {
     "name": "stdout",
     "output_type": "stream",
     "text": [
      "i = 13   j = 10   i*j = 130\n",
      "i =  8   j =  4   i*j =  32\n",
      "i =  6   j = 10   i*j =  60\n",
      "i =  3   j =  2   i*j =   6\n",
      "i = 12   j =  3   i*j =  36\n"
     ]
    }
   ],
   "source": [
    "# test for MUL_4bits()\n",
    "for i in range(5):\n",
    "  op1 = randint(0, 15)\n",
    "  op2 = randint(0, 15)\n",
    "\n",
    "  i3, i2, i1, i0 = DecTo4bits(op1)\n",
    "  j3, j2, j1, j0 = DecTo4bits(op2)\n",
    "  o7, o6, o5, o4, o3, o2, o1, o0 = MUL_4bits(i3, i2, i1, i0, j3, j2, j1, j0)\n",
    "  result = o7*2**7 + o6*2**6 + o5*2**5+ o4*2**4 + o3*2**3 + o2*2**2 + o1*2**1 + o0*2**0\n",
    "  print(f\"i = {op1:2}   j = {op2:2}   i*j = {result:3}\")\n",
    "\n"
   ]
  }
 ],
 "metadata": {
  "kernelspec": {
   "display_name": "base",
   "language": "python",
   "name": "python3"
  },
  "language_info": {
   "codemirror_mode": {
    "name": "ipython",
    "version": 3
   },
   "file_extension": ".py",
   "mimetype": "text/x-python",
   "name": "python",
   "nbconvert_exporter": "python",
   "pygments_lexer": "ipython3",
   "version": "3.11.8"
  }
 },
 "nbformat": 4,
 "nbformat_minor": 2
}
